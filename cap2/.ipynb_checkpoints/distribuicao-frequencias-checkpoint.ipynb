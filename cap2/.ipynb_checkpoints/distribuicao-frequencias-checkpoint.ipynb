{
 "cells": [
  {
   "cell_type": "markdown",
   "metadata": {},
   "source": [
    "Fictitious data about MB employees"
   ]
  },
  {
   "cell_type": "code",
   "execution_count": 1,
   "metadata": {},
   "outputs": [],
   "source": [
    "import pandas as pd\n",
    "import matplotlib as plt\n",
    "import seaborn as sns\n",
    "%matplotlib inline"
   ]
  },
  {
   "cell_type": "code",
   "execution_count": 2,
   "metadata": {},
   "outputs": [],
   "source": [
    "df = pd.read_csv(\"tabela21.csv\")"
   ]
  },
  {
   "cell_type": "code",
   "execution_count": 3,
   "metadata": {},
   "outputs": [
    {
     "name": "stdout",
     "output_type": "stream",
     "text": [
      "<class 'pandas.core.frame.DataFrame'>\n",
      "RangeIndex: 36 entries, 0 to 35\n",
      "Data columns (total 8 columns):\n",
      "N                        36 non-null int64\n",
      "Estado Civil             36 non-null object\n",
      "Grau de Instrução        36 non-null object\n",
      "N de Filhos              20 non-null float64\n",
      "Salario (x Sal Min)      36 non-null float64\n",
      "Anos                     36 non-null int64\n",
      "Meses                    36 non-null int64\n",
      "Região de Procedência    36 non-null object\n",
      "dtypes: float64(2), int64(3), object(3)\n",
      "memory usage: 2.3+ KB\n"
     ]
    }
   ],
   "source": [
    "df.info()"
   ]
  },
  {
   "cell_type": "code",
   "execution_count": 4,
   "metadata": {},
   "outputs": [
    {
     "data": {
      "text/html": [
       "<div>\n",
       "<style scoped>\n",
       "    .dataframe tbody tr th:only-of-type {\n",
       "        vertical-align: middle;\n",
       "    }\n",
       "\n",
       "    .dataframe tbody tr th {\n",
       "        vertical-align: top;\n",
       "    }\n",
       "\n",
       "    .dataframe thead th {\n",
       "        text-align: right;\n",
       "    }\n",
       "</style>\n",
       "<table border=\"1\" class=\"dataframe\">\n",
       "  <thead>\n",
       "    <tr style=\"text-align: right;\">\n",
       "      <th></th>\n",
       "      <th>N</th>\n",
       "      <th>N de Filhos</th>\n",
       "      <th>Salario (x Sal Min)</th>\n",
       "      <th>Anos</th>\n",
       "      <th>Meses</th>\n",
       "    </tr>\n",
       "  </thead>\n",
       "  <tbody>\n",
       "    <tr>\n",
       "      <th>count</th>\n",
       "      <td>36.000000</td>\n",
       "      <td>20.000000</td>\n",
       "      <td>36.000000</td>\n",
       "      <td>36.000000</td>\n",
       "      <td>36.000000</td>\n",
       "    </tr>\n",
       "    <tr>\n",
       "      <th>mean</th>\n",
       "      <td>18.500000</td>\n",
       "      <td>1.650000</td>\n",
       "      <td>11.122222</td>\n",
       "      <td>34.583333</td>\n",
       "      <td>5.611111</td>\n",
       "    </tr>\n",
       "    <tr>\n",
       "      <th>std</th>\n",
       "      <td>10.535654</td>\n",
       "      <td>1.268028</td>\n",
       "      <td>4.587458</td>\n",
       "      <td>6.737422</td>\n",
       "      <td>3.288749</td>\n",
       "    </tr>\n",
       "    <tr>\n",
       "      <th>min</th>\n",
       "      <td>1.000000</td>\n",
       "      <td>0.000000</td>\n",
       "      <td>4.000000</td>\n",
       "      <td>20.000000</td>\n",
       "      <td>0.000000</td>\n",
       "    </tr>\n",
       "    <tr>\n",
       "      <th>25%</th>\n",
       "      <td>9.750000</td>\n",
       "      <td>1.000000</td>\n",
       "      <td>7.552500</td>\n",
       "      <td>30.000000</td>\n",
       "      <td>3.750000</td>\n",
       "    </tr>\n",
       "    <tr>\n",
       "      <th>50%</th>\n",
       "      <td>18.500000</td>\n",
       "      <td>2.000000</td>\n",
       "      <td>10.165000</td>\n",
       "      <td>34.500000</td>\n",
       "      <td>6.000000</td>\n",
       "    </tr>\n",
       "    <tr>\n",
       "      <th>75%</th>\n",
       "      <td>27.250000</td>\n",
       "      <td>2.000000</td>\n",
       "      <td>14.060000</td>\n",
       "      <td>40.000000</td>\n",
       "      <td>8.000000</td>\n",
       "    </tr>\n",
       "    <tr>\n",
       "      <th>max</th>\n",
       "      <td>36.000000</td>\n",
       "      <td>5.000000</td>\n",
       "      <td>23.300000</td>\n",
       "      <td>48.000000</td>\n",
       "      <td>11.000000</td>\n",
       "    </tr>\n",
       "  </tbody>\n",
       "</table>\n",
       "</div>"
      ],
      "text/plain": [
       "               N  N de Filhos  Salario (x Sal Min)       Anos      Meses\n",
       "count  36.000000    20.000000            36.000000  36.000000  36.000000\n",
       "mean   18.500000     1.650000            11.122222  34.583333   5.611111\n",
       "std    10.535654     1.268028             4.587458   6.737422   3.288749\n",
       "min     1.000000     0.000000             4.000000  20.000000   0.000000\n",
       "25%     9.750000     1.000000             7.552500  30.000000   3.750000\n",
       "50%    18.500000     2.000000            10.165000  34.500000   6.000000\n",
       "75%    27.250000     2.000000            14.060000  40.000000   8.000000\n",
       "max    36.000000     5.000000            23.300000  48.000000  11.000000"
      ]
     },
     "execution_count": 4,
     "metadata": {},
     "output_type": "execute_result"
    }
   ],
   "source": [
    "df.describe()"
   ]
  },
  {
   "cell_type": "code",
   "execution_count": 5,
   "metadata": {},
   "outputs": [
    {
     "data": {
      "text/html": [
       "<div>\n",
       "<style scoped>\n",
       "    .dataframe tbody tr th:only-of-type {\n",
       "        vertical-align: middle;\n",
       "    }\n",
       "\n",
       "    .dataframe tbody tr th {\n",
       "        vertical-align: top;\n",
       "    }\n",
       "\n",
       "    .dataframe thead th {\n",
       "        text-align: right;\n",
       "    }\n",
       "</style>\n",
       "<table border=\"1\" class=\"dataframe\">\n",
       "  <thead>\n",
       "    <tr style=\"text-align: right;\">\n",
       "      <th></th>\n",
       "      <th>N</th>\n",
       "      <th>Estado Civil</th>\n",
       "      <th>Grau de Instrução</th>\n",
       "      <th>N de Filhos</th>\n",
       "      <th>Salario (x Sal Min)</th>\n",
       "      <th>Anos</th>\n",
       "      <th>Meses</th>\n",
       "      <th>Região de Procedência</th>\n",
       "    </tr>\n",
       "  </thead>\n",
       "  <tbody>\n",
       "    <tr>\n",
       "      <th>0</th>\n",
       "      <td>1</td>\n",
       "      <td>solteiro</td>\n",
       "      <td>ensino fundamental</td>\n",
       "      <td>NaN</td>\n",
       "      <td>4.00</td>\n",
       "      <td>26</td>\n",
       "      <td>3</td>\n",
       "      <td>interior</td>\n",
       "    </tr>\n",
       "    <tr>\n",
       "      <th>1</th>\n",
       "      <td>2</td>\n",
       "      <td>casado</td>\n",
       "      <td>ensino fundamental</td>\n",
       "      <td>1.0</td>\n",
       "      <td>4.56</td>\n",
       "      <td>32</td>\n",
       "      <td>10</td>\n",
       "      <td>capital</td>\n",
       "    </tr>\n",
       "    <tr>\n",
       "      <th>2</th>\n",
       "      <td>3</td>\n",
       "      <td>casado</td>\n",
       "      <td>ensino fundamental</td>\n",
       "      <td>2.0</td>\n",
       "      <td>5.25</td>\n",
       "      <td>36</td>\n",
       "      <td>5</td>\n",
       "      <td>capital</td>\n",
       "    </tr>\n",
       "    <tr>\n",
       "      <th>3</th>\n",
       "      <td>4</td>\n",
       "      <td>solteiro</td>\n",
       "      <td>ensino médio</td>\n",
       "      <td>NaN</td>\n",
       "      <td>5.73</td>\n",
       "      <td>20</td>\n",
       "      <td>10</td>\n",
       "      <td>outra</td>\n",
       "    </tr>\n",
       "    <tr>\n",
       "      <th>4</th>\n",
       "      <td>5</td>\n",
       "      <td>solteiro</td>\n",
       "      <td>ensino fundamental</td>\n",
       "      <td>NaN</td>\n",
       "      <td>6.26</td>\n",
       "      <td>40</td>\n",
       "      <td>7</td>\n",
       "      <td>outra</td>\n",
       "    </tr>\n",
       "  </tbody>\n",
       "</table>\n",
       "</div>"
      ],
      "text/plain": [
       "   N Estado Civil   Grau de Instrução  N de Filhos  Salario (x Sal Min)  Anos  \\\n",
       "0  1     solteiro  ensino fundamental          NaN                 4.00    26   \n",
       "1  2       casado  ensino fundamental          1.0                 4.56    32   \n",
       "2  3       casado  ensino fundamental          2.0                 5.25    36   \n",
       "3  4     solteiro        ensino médio          NaN                 5.73    20   \n",
       "4  5     solteiro  ensino fundamental          NaN                 6.26    40   \n",
       "\n",
       "   Meses Região de Procedência  \n",
       "0      3              interior  \n",
       "1     10               capital  \n",
       "2      5               capital  \n",
       "3     10                 outra  \n",
       "4      7                 outra  "
      ]
     },
     "execution_count": 5,
     "metadata": {},
     "output_type": "execute_result"
    }
   ],
   "source": [
    "df.head()"
   ]
  },
  {
   "cell_type": "code",
   "execution_count": 189,
   "metadata": {},
   "outputs": [
    {
     "data": {
      "text/html": [
       "<div>\n",
       "<style scoped>\n",
       "    .dataframe tbody tr th:only-of-type {\n",
       "        vertical-align: middle;\n",
       "    }\n",
       "\n",
       "    .dataframe tbody tr th {\n",
       "        vertical-align: top;\n",
       "    }\n",
       "\n",
       "    .dataframe thead th {\n",
       "        text-align: right;\n",
       "    }\n",
       "</style>\n",
       "<table border=\"1\" class=\"dataframe\">\n",
       "  <thead>\n",
       "    <tr style=\"text-align: right;\">\n",
       "      <th></th>\n",
       "      <th>N</th>\n",
       "      <th>Estado Civil</th>\n",
       "      <th>Grau de Instrução</th>\n",
       "      <th>N de Filhos</th>\n",
       "      <th>Salario (x Sal Min)</th>\n",
       "      <th>Anos</th>\n",
       "      <th>Meses</th>\n",
       "      <th>Região de Procedência</th>\n",
       "    </tr>\n",
       "  </thead>\n",
       "  <tbody>\n",
       "    <tr>\n",
       "      <th>0</th>\n",
       "      <td>1</td>\n",
       "      <td>solteiro</td>\n",
       "      <td>ensino fundamental</td>\n",
       "      <td>NaN</td>\n",
       "      <td>4.00</td>\n",
       "      <td>26</td>\n",
       "      <td>3</td>\n",
       "      <td>interior</td>\n",
       "    </tr>\n",
       "    <tr>\n",
       "      <th>1</th>\n",
       "      <td>2</td>\n",
       "      <td>casado</td>\n",
       "      <td>ensino fundamental</td>\n",
       "      <td>1.0</td>\n",
       "      <td>4.56</td>\n",
       "      <td>32</td>\n",
       "      <td>10</td>\n",
       "      <td>capital</td>\n",
       "    </tr>\n",
       "    <tr>\n",
       "      <th>2</th>\n",
       "      <td>3</td>\n",
       "      <td>casado</td>\n",
       "      <td>ensino fundamental</td>\n",
       "      <td>2.0</td>\n",
       "      <td>5.25</td>\n",
       "      <td>36</td>\n",
       "      <td>5</td>\n",
       "      <td>capital</td>\n",
       "    </tr>\n",
       "    <tr>\n",
       "      <th>3</th>\n",
       "      <td>4</td>\n",
       "      <td>solteiro</td>\n",
       "      <td>ensino médio</td>\n",
       "      <td>NaN</td>\n",
       "      <td>5.73</td>\n",
       "      <td>20</td>\n",
       "      <td>10</td>\n",
       "      <td>outra</td>\n",
       "    </tr>\n",
       "    <tr>\n",
       "      <th>4</th>\n",
       "      <td>5</td>\n",
       "      <td>solteiro</td>\n",
       "      <td>ensino fundamental</td>\n",
       "      <td>NaN</td>\n",
       "      <td>6.26</td>\n",
       "      <td>40</td>\n",
       "      <td>7</td>\n",
       "      <td>outra</td>\n",
       "    </tr>\n",
       "    <tr>\n",
       "      <th>5</th>\n",
       "      <td>6</td>\n",
       "      <td>casado</td>\n",
       "      <td>ensino fundamental</td>\n",
       "      <td>0.0</td>\n",
       "      <td>6.66</td>\n",
       "      <td>28</td>\n",
       "      <td>0</td>\n",
       "      <td>interior</td>\n",
       "    </tr>\n",
       "    <tr>\n",
       "      <th>6</th>\n",
       "      <td>7</td>\n",
       "      <td>solteiro</td>\n",
       "      <td>ensino fundamental</td>\n",
       "      <td>NaN</td>\n",
       "      <td>6.86</td>\n",
       "      <td>41</td>\n",
       "      <td>0</td>\n",
       "      <td>interior</td>\n",
       "    </tr>\n",
       "    <tr>\n",
       "      <th>7</th>\n",
       "      <td>8</td>\n",
       "      <td>solteiro</td>\n",
       "      <td>ensino fundamental</td>\n",
       "      <td>NaN</td>\n",
       "      <td>7.39</td>\n",
       "      <td>43</td>\n",
       "      <td>4</td>\n",
       "      <td>capital</td>\n",
       "    </tr>\n",
       "    <tr>\n",
       "      <th>8</th>\n",
       "      <td>9</td>\n",
       "      <td>casado</td>\n",
       "      <td>ensino médio</td>\n",
       "      <td>1.0</td>\n",
       "      <td>7.59</td>\n",
       "      <td>34</td>\n",
       "      <td>10</td>\n",
       "      <td>capital</td>\n",
       "    </tr>\n",
       "    <tr>\n",
       "      <th>9</th>\n",
       "      <td>10</td>\n",
       "      <td>solteiro</td>\n",
       "      <td>ensino médio</td>\n",
       "      <td>NaN</td>\n",
       "      <td>7.44</td>\n",
       "      <td>23</td>\n",
       "      <td>6</td>\n",
       "      <td>outra</td>\n",
       "    </tr>\n",
       "    <tr>\n",
       "      <th>10</th>\n",
       "      <td>11</td>\n",
       "      <td>casado</td>\n",
       "      <td>ensino médio</td>\n",
       "      <td>2.0</td>\n",
       "      <td>8.12</td>\n",
       "      <td>33</td>\n",
       "      <td>6</td>\n",
       "      <td>interior</td>\n",
       "    </tr>\n",
       "    <tr>\n",
       "      <th>11</th>\n",
       "      <td>12</td>\n",
       "      <td>solteiro</td>\n",
       "      <td>ensino fundamental</td>\n",
       "      <td>NaN</td>\n",
       "      <td>8.46</td>\n",
       "      <td>27</td>\n",
       "      <td>11</td>\n",
       "      <td>capital</td>\n",
       "    </tr>\n",
       "    <tr>\n",
       "      <th>12</th>\n",
       "      <td>13</td>\n",
       "      <td>solteiro</td>\n",
       "      <td>ensino médio</td>\n",
       "      <td>NaN</td>\n",
       "      <td>8.74</td>\n",
       "      <td>37</td>\n",
       "      <td>5</td>\n",
       "      <td>outra</td>\n",
       "    </tr>\n",
       "    <tr>\n",
       "      <th>13</th>\n",
       "      <td>14</td>\n",
       "      <td>casado</td>\n",
       "      <td>ensino fundamental</td>\n",
       "      <td>3.0</td>\n",
       "      <td>8.95</td>\n",
       "      <td>44</td>\n",
       "      <td>2</td>\n",
       "      <td>outra</td>\n",
       "    </tr>\n",
       "    <tr>\n",
       "      <th>14</th>\n",
       "      <td>15</td>\n",
       "      <td>casado</td>\n",
       "      <td>ensino médio</td>\n",
       "      <td>0.0</td>\n",
       "      <td>9.13</td>\n",
       "      <td>30</td>\n",
       "      <td>5</td>\n",
       "      <td>interior</td>\n",
       "    </tr>\n",
       "    <tr>\n",
       "      <th>15</th>\n",
       "      <td>16</td>\n",
       "      <td>solteiro</td>\n",
       "      <td>ensino médio</td>\n",
       "      <td>NaN</td>\n",
       "      <td>9.35</td>\n",
       "      <td>38</td>\n",
       "      <td>8</td>\n",
       "      <td>outra</td>\n",
       "    </tr>\n",
       "    <tr>\n",
       "      <th>16</th>\n",
       "      <td>17</td>\n",
       "      <td>casado</td>\n",
       "      <td>ensino médio</td>\n",
       "      <td>1.0</td>\n",
       "      <td>9.77</td>\n",
       "      <td>31</td>\n",
       "      <td>7</td>\n",
       "      <td>capital</td>\n",
       "    </tr>\n",
       "    <tr>\n",
       "      <th>17</th>\n",
       "      <td>18</td>\n",
       "      <td>casado</td>\n",
       "      <td>ensino fundamental</td>\n",
       "      <td>2.0</td>\n",
       "      <td>9.80</td>\n",
       "      <td>39</td>\n",
       "      <td>7</td>\n",
       "      <td>outra</td>\n",
       "    </tr>\n",
       "    <tr>\n",
       "      <th>18</th>\n",
       "      <td>19</td>\n",
       "      <td>solteiro</td>\n",
       "      <td>superior</td>\n",
       "      <td>NaN</td>\n",
       "      <td>10.53</td>\n",
       "      <td>25</td>\n",
       "      <td>8</td>\n",
       "      <td>interior</td>\n",
       "    </tr>\n",
       "    <tr>\n",
       "      <th>19</th>\n",
       "      <td>20</td>\n",
       "      <td>solteiro</td>\n",
       "      <td>ensino médio</td>\n",
       "      <td>NaN</td>\n",
       "      <td>10.76</td>\n",
       "      <td>37</td>\n",
       "      <td>4</td>\n",
       "      <td>interior</td>\n",
       "    </tr>\n",
       "    <tr>\n",
       "      <th>20</th>\n",
       "      <td>21</td>\n",
       "      <td>casado</td>\n",
       "      <td>ensino médio</td>\n",
       "      <td>1.0</td>\n",
       "      <td>11.06</td>\n",
       "      <td>30</td>\n",
       "      <td>9</td>\n",
       "      <td>outra</td>\n",
       "    </tr>\n",
       "    <tr>\n",
       "      <th>21</th>\n",
       "      <td>22</td>\n",
       "      <td>solteiro</td>\n",
       "      <td>ensino médio</td>\n",
       "      <td>NaN</td>\n",
       "      <td>11.59</td>\n",
       "      <td>34</td>\n",
       "      <td>2</td>\n",
       "      <td>capital</td>\n",
       "    </tr>\n",
       "    <tr>\n",
       "      <th>22</th>\n",
       "      <td>23</td>\n",
       "      <td>solteiro</td>\n",
       "      <td>ensino fundamental</td>\n",
       "      <td>NaN</td>\n",
       "      <td>12.00</td>\n",
       "      <td>41</td>\n",
       "      <td>0</td>\n",
       "      <td>outra</td>\n",
       "    </tr>\n",
       "    <tr>\n",
       "      <th>23</th>\n",
       "      <td>24</td>\n",
       "      <td>casado</td>\n",
       "      <td>superior</td>\n",
       "      <td>0.0</td>\n",
       "      <td>12.79</td>\n",
       "      <td>26</td>\n",
       "      <td>1</td>\n",
       "      <td>outra</td>\n",
       "    </tr>\n",
       "    <tr>\n",
       "      <th>24</th>\n",
       "      <td>25</td>\n",
       "      <td>casado</td>\n",
       "      <td>ensino médio</td>\n",
       "      <td>2.0</td>\n",
       "      <td>13.23</td>\n",
       "      <td>32</td>\n",
       "      <td>5</td>\n",
       "      <td>interior</td>\n",
       "    </tr>\n",
       "    <tr>\n",
       "      <th>25</th>\n",
       "      <td>26</td>\n",
       "      <td>casado</td>\n",
       "      <td>ensino médio</td>\n",
       "      <td>2.0</td>\n",
       "      <td>13.60</td>\n",
       "      <td>35</td>\n",
       "      <td>0</td>\n",
       "      <td>outra</td>\n",
       "    </tr>\n",
       "    <tr>\n",
       "      <th>26</th>\n",
       "      <td>27</td>\n",
       "      <td>solteiro</td>\n",
       "      <td>ensino fundamental</td>\n",
       "      <td>NaN</td>\n",
       "      <td>13.85</td>\n",
       "      <td>46</td>\n",
       "      <td>7</td>\n",
       "      <td>outra</td>\n",
       "    </tr>\n",
       "    <tr>\n",
       "      <th>27</th>\n",
       "      <td>28</td>\n",
       "      <td>casado</td>\n",
       "      <td>ensino médio</td>\n",
       "      <td>0.0</td>\n",
       "      <td>14.69</td>\n",
       "      <td>29</td>\n",
       "      <td>8</td>\n",
       "      <td>interior</td>\n",
       "    </tr>\n",
       "    <tr>\n",
       "      <th>28</th>\n",
       "      <td>29</td>\n",
       "      <td>casado</td>\n",
       "      <td>ensino médio</td>\n",
       "      <td>5.0</td>\n",
       "      <td>14.71</td>\n",
       "      <td>40</td>\n",
       "      <td>6</td>\n",
       "      <td>interior</td>\n",
       "    </tr>\n",
       "    <tr>\n",
       "      <th>29</th>\n",
       "      <td>30</td>\n",
       "      <td>casado</td>\n",
       "      <td>ensino médio</td>\n",
       "      <td>2.0</td>\n",
       "      <td>15.99</td>\n",
       "      <td>35</td>\n",
       "      <td>10</td>\n",
       "      <td>capital</td>\n",
       "    </tr>\n",
       "    <tr>\n",
       "      <th>30</th>\n",
       "      <td>31</td>\n",
       "      <td>solteiro</td>\n",
       "      <td>superior</td>\n",
       "      <td>NaN</td>\n",
       "      <td>16.22</td>\n",
       "      <td>31</td>\n",
       "      <td>5</td>\n",
       "      <td>outra</td>\n",
       "    </tr>\n",
       "    <tr>\n",
       "      <th>31</th>\n",
       "      <td>32</td>\n",
       "      <td>casado</td>\n",
       "      <td>ensino médio</td>\n",
       "      <td>1.0</td>\n",
       "      <td>16.61</td>\n",
       "      <td>36</td>\n",
       "      <td>4</td>\n",
       "      <td>interior</td>\n",
       "    </tr>\n",
       "    <tr>\n",
       "      <th>32</th>\n",
       "      <td>33</td>\n",
       "      <td>casado</td>\n",
       "      <td>superior</td>\n",
       "      <td>3.0</td>\n",
       "      <td>17.26</td>\n",
       "      <td>43</td>\n",
       "      <td>7</td>\n",
       "      <td>capital</td>\n",
       "    </tr>\n",
       "    <tr>\n",
       "      <th>33</th>\n",
       "      <td>34</td>\n",
       "      <td>solteiro</td>\n",
       "      <td>superior</td>\n",
       "      <td>NaN</td>\n",
       "      <td>18.75</td>\n",
       "      <td>33</td>\n",
       "      <td>7</td>\n",
       "      <td>capital</td>\n",
       "    </tr>\n",
       "    <tr>\n",
       "      <th>34</th>\n",
       "      <td>35</td>\n",
       "      <td>casado</td>\n",
       "      <td>ensino médio</td>\n",
       "      <td>2.0</td>\n",
       "      <td>19.40</td>\n",
       "      <td>48</td>\n",
       "      <td>11</td>\n",
       "      <td>capital</td>\n",
       "    </tr>\n",
       "    <tr>\n",
       "      <th>35</th>\n",
       "      <td>36</td>\n",
       "      <td>casado</td>\n",
       "      <td>superior</td>\n",
       "      <td>3.0</td>\n",
       "      <td>23.30</td>\n",
       "      <td>42</td>\n",
       "      <td>2</td>\n",
       "      <td>interior</td>\n",
       "    </tr>\n",
       "  </tbody>\n",
       "</table>\n",
       "</div>"
      ],
      "text/plain": [
       "     N Estado Civil   Grau de Instrução  N de Filhos  Salario (x Sal Min)  \\\n",
       "0    1     solteiro  ensino fundamental          NaN                 4.00   \n",
       "1    2       casado  ensino fundamental          1.0                 4.56   \n",
       "2    3       casado  ensino fundamental          2.0                 5.25   \n",
       "3    4     solteiro        ensino médio          NaN                 5.73   \n",
       "4    5     solteiro  ensino fundamental          NaN                 6.26   \n",
       "5    6       casado  ensino fundamental          0.0                 6.66   \n",
       "6    7     solteiro  ensino fundamental          NaN                 6.86   \n",
       "7    8     solteiro  ensino fundamental          NaN                 7.39   \n",
       "8    9       casado        ensino médio          1.0                 7.59   \n",
       "9   10     solteiro        ensino médio          NaN                 7.44   \n",
       "10  11       casado        ensino médio          2.0                 8.12   \n",
       "11  12     solteiro  ensino fundamental          NaN                 8.46   \n",
       "12  13     solteiro        ensino médio          NaN                 8.74   \n",
       "13  14       casado  ensino fundamental          3.0                 8.95   \n",
       "14  15       casado        ensino médio          0.0                 9.13   \n",
       "15  16     solteiro        ensino médio          NaN                 9.35   \n",
       "16  17       casado        ensino médio          1.0                 9.77   \n",
       "17  18       casado  ensino fundamental          2.0                 9.80   \n",
       "18  19     solteiro            superior          NaN                10.53   \n",
       "19  20     solteiro        ensino médio          NaN                10.76   \n",
       "20  21       casado        ensino médio          1.0                11.06   \n",
       "21  22     solteiro        ensino médio          NaN                11.59   \n",
       "22  23     solteiro  ensino fundamental          NaN                12.00   \n",
       "23  24       casado            superior          0.0                12.79   \n",
       "24  25       casado        ensino médio          2.0                13.23   \n",
       "25  26       casado        ensino médio          2.0                13.60   \n",
       "26  27     solteiro  ensino fundamental          NaN                13.85   \n",
       "27  28       casado        ensino médio          0.0                14.69   \n",
       "28  29       casado        ensino médio          5.0                14.71   \n",
       "29  30       casado        ensino médio          2.0                15.99   \n",
       "30  31     solteiro            superior          NaN                16.22   \n",
       "31  32       casado        ensino médio          1.0                16.61   \n",
       "32  33       casado            superior          3.0                17.26   \n",
       "33  34     solteiro            superior          NaN                18.75   \n",
       "34  35       casado        ensino médio          2.0                19.40   \n",
       "35  36       casado            superior          3.0                23.30   \n",
       "\n",
       "    Anos  Meses Região de Procedência  \n",
       "0     26      3              interior  \n",
       "1     32     10               capital  \n",
       "2     36      5               capital  \n",
       "3     20     10                 outra  \n",
       "4     40      7                 outra  \n",
       "5     28      0              interior  \n",
       "6     41      0              interior  \n",
       "7     43      4               capital  \n",
       "8     34     10               capital  \n",
       "9     23      6                 outra  \n",
       "10    33      6              interior  \n",
       "11    27     11               capital  \n",
       "12    37      5                 outra  \n",
       "13    44      2                 outra  \n",
       "14    30      5              interior  \n",
       "15    38      8                 outra  \n",
       "16    31      7               capital  \n",
       "17    39      7                 outra  \n",
       "18    25      8              interior  \n",
       "19    37      4              interior  \n",
       "20    30      9                 outra  \n",
       "21    34      2               capital  \n",
       "22    41      0                 outra  \n",
       "23    26      1                 outra  \n",
       "24    32      5              interior  \n",
       "25    35      0                 outra  \n",
       "26    46      7                 outra  \n",
       "27    29      8              interior  \n",
       "28    40      6              interior  \n",
       "29    35     10               capital  \n",
       "30    31      5                 outra  \n",
       "31    36      4              interior  \n",
       "32    43      7               capital  \n",
       "33    33      7               capital  \n",
       "34    48     11               capital  \n",
       "35    42      2              interior  "
      ]
     },
     "execution_count": 189,
     "metadata": {},
     "output_type": "execute_result"
    }
   ],
   "source": [
    "df"
   ]
  },
  {
   "cell_type": "code",
   "execution_count": 11,
   "metadata": {},
   "outputs": [
    {
     "data": {
      "text/plain": [
       "<matplotlib.axes._subplots.AxesSubplot at 0x7f8df94c7908>"
      ]
     },
     "execution_count": 11,
     "metadata": {},
     "output_type": "execute_result"
    },
    {
     "data": {
      "image/png": "[encoded data removed]",
      "text/plain": [
       "<matplotlib.figure.Figure at 0x7f8e01c5db00>"
      ]
     },
     "metadata": {},
     "output_type": "display_data"
    }
   ],
   "source": [
    "df[\"Estado Civil\"].hist()"
   ]
  },
  {
   "cell_type": "code",
   "execution_count": 19,
   "metadata": {},
   "outputs": [],
   "source": []
  },
  {
   "cell_type": "code",
   "execution_count": 101,
   "metadata": {},
   "outputs": [],
   "source": [
    "estCivil = [df[\"Estado Civil\"].value_counts(), df[\"Estado Civil\"].value_counts() / 36,  (df[\"Estado Civil\"].value_counts() * 100) /36  ]"
   ]
  },
  {
   "cell_type": "code",
   "execution_count": 102,
   "metadata": {},
   "outputs": [
    {
     "data": {
      "text/plain": [
       "[casado      20\n",
       " solteiro    16\n",
       " Name: Estado Civil, dtype: int64, casado      0.555556\n",
       " solteiro    0.444444\n",
       " Name: Estado Civil, dtype: float64, casado      55.555556\n",
       " solteiro    44.444444\n",
       " Name: Estado Civil, dtype: float64]"
      ]
     },
     "execution_count": 102,
     "metadata": {},
     "output_type": "execute_result"
    }
   ],
   "source": [
    "estCivil"
   ]
  },
  {
   "cell_type": "code",
   "execution_count": 87,
   "metadata": {},
   "outputs": [],
   "source": [
    "data = {\"Frequencia Ni\" : [16, 20], \"Proporcao Fi\": [0.44, 0.56], \"Porcentagem 100 Fi\": [44, 56]}"
   ]
  },
  {
   "cell_type": "code",
   "execution_count": 88,
   "metadata": {},
   "outputs": [
    {
     "data": {
      "text/plain": [
       "{'Frequencia Ni': [16, 20],\n",
       " 'Porcentagem 100 Fi': [44, 56],\n",
       " 'Proporcao Fi': [0.44, 0.56]}"
      ]
     },
     "execution_count": 88,
     "metadata": {},
     "output_type": "execute_result"
    }
   ],
   "source": [
    "data"
   ]
  },
  {
   "cell_type": "code",
   "execution_count": null,
   "metadata": {},
   "outputs": [],
   "source": []
  },
  {
   "cell_type": "code",
   "execution_count": 94,
   "metadata": {},
   "outputs": [],
   "source": [
    "grauInstrucao = pd.DataFrame(data=data, index=['solteiro','casado'])"
   ]
  },
  {
   "cell_type": "code",
   "execution_count": 95,
   "metadata": {},
   "outputs": [
    {
     "data": {
      "text/html": [
       "<div>\n",
       "<style scoped>\n",
       "    .dataframe tbody tr th:only-of-type {\n",
       "        vertical-align: middle;\n",
       "    }\n",
       "\n",
       "    .dataframe tbody tr th {\n",
       "        vertical-align: top;\n",
       "    }\n",
       "\n",
       "    .dataframe thead th {\n",
       "        text-align: right;\n",
       "    }\n",
       "</style>\n",
       "<table border=\"1\" class=\"dataframe\">\n",
       "  <thead>\n",
       "    <tr style=\"text-align: right;\">\n",
       "      <th></th>\n",
       "      <th>Frequencia Ni</th>\n",
       "      <th>Porcentagem 100 Fi</th>\n",
       "      <th>Proporcao Fi</th>\n",
       "    </tr>\n",
       "  </thead>\n",
       "  <tbody>\n",
       "    <tr>\n",
       "      <th>solteiro</th>\n",
       "      <td>16</td>\n",
       "      <td>44</td>\n",
       "      <td>0.44</td>\n",
       "    </tr>\n",
       "    <tr>\n",
       "      <th>casado</th>\n",
       "      <td>20</td>\n",
       "      <td>56</td>\n",
       "      <td>0.56</td>\n",
       "    </tr>\n",
       "  </tbody>\n",
       "</table>\n",
       "</div>"
      ],
      "text/plain": [
       "          Frequencia Ni  Porcentagem 100 Fi  Proporcao Fi\n",
       "solteiro             16                  44          0.44\n",
       "casado               20                  56          0.56"
      ]
     },
     "execution_count": 95,
     "metadata": {},
     "output_type": "execute_result"
    }
   ],
   "source": [
    "grauInstrucao"
   ]
  },
  {
   "cell_type": "code",
   "execution_count": 99,
   "metadata": {},
   "outputs": [
    {
     "data": {
      "text/plain": [
       "array(['interior', 'capital', 'outra'], dtype=object)"
      ]
     },
     "execution_count": 99,
     "metadata": {},
     "output_type": "execute_result"
    }
   ],
   "source": [
    "df[\"Região de Procedência\"].unique()"
   ]
  },
  {
   "cell_type": "code",
   "execution_count": 100,
   "metadata": {},
   "outputs": [
    {
     "data": {
      "text/plain": [
       "outra       13\n",
       "interior    12\n",
       "capital     11\n",
       "Name: Região de Procedência, dtype: int64"
      ]
     },
     "execution_count": 100,
     "metadata": {},
     "output_type": "execute_result"
    }
   ],
   "source": [
    "df[\"Região de Procedência\"].value_counts()"
   ]
  },
  {
   "cell_type": "code",
   "execution_count": 106,
   "metadata": {},
   "outputs": [],
   "source": [
    "procedenciaValues = [df[\"Região de Procedência\"].value_counts(), df[\"Região de Procedência\"].value_counts() / 36,  (df[\"Região de Procedência\"].value_counts() * 100) /36  ]"
   ]
  },
  {
   "cell_type": "code",
   "execution_count": 107,
   "metadata": {},
   "outputs": [
    {
     "data": {
      "text/plain": [
       "[outra       13\n",
       " interior    12\n",
       " capital     11\n",
       " Name: Região de Procedência, dtype: int64, outra       0.361111\n",
       " interior    0.333333\n",
       " capital     0.305556\n",
       " Name: Região de Procedência, dtype: float64, outra       36.111111\n",
       " interior    33.333333\n",
       " capital     30.555556\n",
       " Name: Região de Procedência, dtype: float64]"
      ]
     },
     "execution_count": 107,
     "metadata": {},
     "output_type": "execute_result"
    }
   ],
   "source": [
    "procedenciaValues"
   ]
  },
  {
   "cell_type": "code",
   "execution_count": 105,
   "metadata": {},
   "outputs": [],
   "source": [
    "dataProc = {\"Frequencia Ni\" : [13, 12, 11], \"Proporcao Fi\": [0.36, 0.33, 0.31], \"Porcentagem 100 Fi\": [36, 33, 31]}"
   ]
  },
  {
   "cell_type": "code",
   "execution_count": 109,
   "metadata": {},
   "outputs": [],
   "source": [
    "dfProc = pd.DataFrame(data = dataProc, index = ['outra', 'interior', 'capital'])"
   ]
  },
  {
   "cell_type": "code",
   "execution_count": 110,
   "metadata": {},
   "outputs": [
    {
     "data": {
      "text/html": [
       "<div>\n",
       "<style scoped>\n",
       "    .dataframe tbody tr th:only-of-type {\n",
       "        vertical-align: middle;\n",
       "    }\n",
       "\n",
       "    .dataframe tbody tr th {\n",
       "        vertical-align: top;\n",
       "    }\n",
       "\n",
       "    .dataframe thead th {\n",
       "        text-align: right;\n",
       "    }\n",
       "</style>\n",
       "<table border=\"1\" class=\"dataframe\">\n",
       "  <thead>\n",
       "    <tr style=\"text-align: right;\">\n",
       "      <th></th>\n",
       "      <th>Frequencia Ni</th>\n",
       "      <th>Porcentagem 100 Fi</th>\n",
       "      <th>Proporcao Fi</th>\n",
       "    </tr>\n",
       "  </thead>\n",
       "  <tbody>\n",
       "    <tr>\n",
       "      <th>outra</th>\n",
       "      <td>13</td>\n",
       "      <td>36</td>\n",
       "      <td>0.36</td>\n",
       "    </tr>\n",
       "    <tr>\n",
       "      <th>interior</th>\n",
       "      <td>12</td>\n",
       "      <td>33</td>\n",
       "      <td>0.33</td>\n",
       "    </tr>\n",
       "    <tr>\n",
       "      <th>capital</th>\n",
       "      <td>11</td>\n",
       "      <td>31</td>\n",
       "      <td>0.31</td>\n",
       "    </tr>\n",
       "  </tbody>\n",
       "</table>\n",
       "</div>"
      ],
      "text/plain": [
       "          Frequencia Ni  Porcentagem 100 Fi  Proporcao Fi\n",
       "outra                13                  36          0.36\n",
       "interior             12                  33          0.33\n",
       "capital              11                  31          0.31"
      ]
     },
     "execution_count": 110,
     "metadata": {},
     "output_type": "execute_result"
    }
   ],
   "source": [
    "dfProc"
   ]
  },
  {
   "cell_type": "code",
   "execution_count": 131,
   "metadata": {},
   "outputs": [],
   "source": [
    "filhos = df[df[\"Estado Civil\"] == 'casado']"
   ]
  },
  {
   "cell_type": "code",
   "execution_count": 139,
   "metadata": {},
   "outputs": [
    {
     "data": {
      "text/plain": [
       "2.0    7\n",
       "1.0    5\n",
       "0.0    4\n",
       "3.0    3\n",
       "5.0    1\n",
       "Name: N de Filhos, dtype: int64"
      ]
     },
     "execution_count": 139,
     "metadata": {},
     "output_type": "execute_result"
    }
   ],
   "source": [
    "filhos[\"N de Filhos\"].value_counts()"
   ]
  },
  {
   "cell_type": "code",
   "execution_count": 146,
   "metadata": {},
   "outputs": [
    {
     "data": {
      "text/plain": [
       "33.0"
      ]
     },
     "execution_count": 146,
     "metadata": {},
     "output_type": "execute_result"
    }
   ],
   "source": [
    "filhos[\"N de Filhos\"].sum()"
   ]
  },
  {
   "cell_type": "code",
   "execution_count": 148,
   "metadata": {},
   "outputs": [
    {
     "data": {
      "text/plain": [
       "[2.0    7\n",
       " 1.0    5\n",
       " 0.0    4\n",
       " 3.0    3\n",
       " 5.0    1\n",
       " Name: N de Filhos, dtype: int64, 2.0    0.212121\n",
       " 1.0    0.151515\n",
       " 0.0    0.121212\n",
       " 3.0    0.090909\n",
       " 5.0    0.030303\n",
       " Name: N de Filhos, dtype: float64, 2.0    21.212121\n",
       " 1.0    15.151515\n",
       " 0.0    12.121212\n",
       " 3.0     9.090909\n",
       " 5.0     3.030303\n",
       " Name: N de Filhos, dtype: float64]"
      ]
     },
     "execution_count": 148,
     "metadata": {},
     "output_type": "execute_result"
    }
   ],
   "source": [
    "estCivil = [df[\"N de Filhos\"].value_counts(), df[\"N de Filhos\"].value_counts() / 33,  (df[\"N de Filhos\"].value_counts() * 100) /33 ]\n",
    "estCivil"
   ]
  },
  {
   "cell_type": "code",
   "execution_count": 159,
   "metadata": {},
   "outputs": [],
   "source": [
    "dataFilhos = {\"Frequencia Ni\" : [4, 5, 7, 3, 0, 1], \"Proporcao Fi\": [0.12, 0.15, 0.21, 0.09, 0.00, 0.03], \"Porcentagem 100 Fi\": [12.12, 15.15, 21.21, 9.09, 0.00, 3.03]}"
   ]
  },
  {
   "cell_type": "code",
   "execution_count": 150,
   "metadata": {},
   "outputs": [
    {
     "data": {
      "text/plain": [
       "{'Frequencia Ni': [4, 5, 7, 3, 1],\n",
       " 'Porcentagem 100 Fi': [12.12, 15.15, 21.21, 9.09, 0.0, 3.03],\n",
       " 'Proporcao Fi': [0.12, 0.15, 0.21, 0.09, 0, 0.03]}"
      ]
     },
     "execution_count": 150,
     "metadata": {},
     "output_type": "execute_result"
    }
   ],
   "source": [
    "dataFilhos"
   ]
  },
  {
   "cell_type": "code",
   "execution_count": 164,
   "metadata": {},
   "outputs": [],
   "source": [
    "dfFilhos = pd.DataFrame(data = dataFilhos, index = ['0', '1', '2', '3', '4', '5'])"
   ]
  },
  {
   "cell_type": "code",
   "execution_count": 173,
   "metadata": {},
   "outputs": [
    {
     "data": {
      "text/html": [
       "<div>\n",
       "<style scoped>\n",
       "    .dataframe tbody tr th:only-of-type {\n",
       "        vertical-align: middle;\n",
       "    }\n",
       "\n",
       "    .dataframe tbody tr th {\n",
       "        vertical-align: top;\n",
       "    }\n",
       "\n",
       "    .dataframe thead th {\n",
       "        text-align: right;\n",
       "    }\n",
       "</style>\n",
       "<table border=\"1\" class=\"dataframe\">\n",
       "  <thead>\n",
       "    <tr style=\"text-align: right;\">\n",
       "      <th></th>\n",
       "      <th>Frequencia Ni</th>\n",
       "      <th>Porcentagem 100 Fi</th>\n",
       "      <th>Proporcao Fi</th>\n",
       "    </tr>\n",
       "  </thead>\n",
       "  <tbody>\n",
       "    <tr>\n",
       "      <th>0</th>\n",
       "      <td>4</td>\n",
       "      <td>12.12</td>\n",
       "      <td>0.12</td>\n",
       "    </tr>\n",
       "    <tr>\n",
       "      <th>1</th>\n",
       "      <td>5</td>\n",
       "      <td>15.15</td>\n",
       "      <td>0.15</td>\n",
       "    </tr>\n",
       "    <tr>\n",
       "      <th>2</th>\n",
       "      <td>7</td>\n",
       "      <td>21.21</td>\n",
       "      <td>0.21</td>\n",
       "    </tr>\n",
       "    <tr>\n",
       "      <th>3</th>\n",
       "      <td>3</td>\n",
       "      <td>9.09</td>\n",
       "      <td>0.09</td>\n",
       "    </tr>\n",
       "    <tr>\n",
       "      <th>4</th>\n",
       "      <td>0</td>\n",
       "      <td>0.00</td>\n",
       "      <td>0.00</td>\n",
       "    </tr>\n",
       "    <tr>\n",
       "      <th>5</th>\n",
       "      <td>1</td>\n",
       "      <td>3.03</td>\n",
       "      <td>0.03</td>\n",
       "    </tr>\n",
       "  </tbody>\n",
       "</table>\n",
       "</div>"
      ],
      "text/plain": [
       "   Frequencia Ni  Porcentagem 100 Fi  Proporcao Fi\n",
       "0              4               12.12          0.12\n",
       "1              5               15.15          0.15\n",
       "2              7               21.21          0.21\n",
       "3              3                9.09          0.09\n",
       "4              0                0.00          0.00\n",
       "5              1                3.03          0.03"
      ]
     },
     "execution_count": 173,
     "metadata": {},
     "output_type": "execute_result"
    }
   ],
   "source": [
    "dfFilhos.rename(columns={\"\": \"N de Filhos\"})\n",
    "dfFilhos"
   ]
  },
  {
   "cell_type": "code",
   "execution_count": 179,
   "metadata": {},
   "outputs": [
    {
     "data": {
      "text/plain": [
       "34    2\n",
       "37    2\n",
       "31    2\n",
       "32    2\n",
       "33    2\n",
       "35    2\n",
       "36    2\n",
       "30    2\n",
       "26    2\n",
       "40    2\n",
       "41    2\n",
       "43    2\n",
       "29    1\n",
       "28    1\n",
       "25    1\n",
       "23    1\n",
       "27    1\n",
       "48    1\n",
       "46    1\n",
       "38    1\n",
       "39    1\n",
       "42    1\n",
       "44    1\n",
       "20    1\n",
       "Name: Anos, dtype: int64"
      ]
     },
     "execution_count": 179,
     "metadata": {},
     "output_type": "execute_result"
    }
   ],
   "source": [
    "df[\"Anos\"].value_counts()"
   ]
  },
  {
   "cell_type": "code",
   "execution_count": 180,
   "metadata": {},
   "outputs": [],
   "source": [
    "dataIdades = df[\"Anos\"].value_counts()"
   ]
  },
  {
   "cell_type": "code",
   "execution_count": 188,
   "metadata": {},
   "outputs": [
    {
     "data": {
      "text/plain": [
       "24"
      ]
     },
     "execution_count": 188,
     "metadata": {},
     "output_type": "execute_result"
    }
   ],
   "source": [
    "dataIdades.count()"
   ]
  },
  {
   "cell_type": "code",
   "execution_count": 187,
   "metadata": {},
   "outputs": [],
   "source": [
    "groupedIdades = {'20|-30': 8, '30|-40': 18, '40|-50': 10}"
   ]
  },
  {
   "cell_type": "code",
   "execution_count": 198,
   "metadata": {},
   "outputs": [],
   "source": [
    "idades={\"Frequencia Ni\" :[8, 18, 10], \"Proporcao Fi\": [8/36, 18/36, 10/36],  \"Porcentagem 100 Fi\": [8*100/36, 18*100/36, 10*100/36]}"
   ]
  },
  {
   "cell_type": "code",
   "execution_count": 199,
   "metadata": {},
   "outputs": [
    {
     "data": {
      "text/plain": [
       "{'Frequencia Ni': [8, 18, 10],\n",
       " 'Porcentagem 100 Fi': [22.22222222222222, 50.0, 27.77777777777778],\n",
       " 'Proporcao Fi': [0.2222222222222222, 0.5, 0.2777777777777778]}"
      ]
     },
     "execution_count": 199,
     "metadata": {},
     "output_type": "execute_result"
    }
   ],
   "source": [
    "idades"
   ]
  },
  {
   "cell_type": "code",
   "execution_count": 200,
   "metadata": {},
   "outputs": [],
   "source": [
    "dfIdades = pd.DataFrame(data = idades, index=['20|-30', '30|-40', '40|-50'])"
   ]
  },
  {
   "cell_type": "code",
   "execution_count": 201,
   "metadata": {},
   "outputs": [
    {
     "data": {
      "text/html": [
       "<div>\n",
       "<style scoped>\n",
       "    .dataframe tbody tr th:only-of-type {\n",
       "        vertical-align: middle;\n",
       "    }\n",
       "\n",
       "    .dataframe tbody tr th {\n",
       "        vertical-align: top;\n",
       "    }\n",
       "\n",
       "    .dataframe thead th {\n",
       "        text-align: right;\n",
       "    }\n",
       "</style>\n",
       "<table border=\"1\" class=\"dataframe\">\n",
       "  <thead>\n",
       "    <tr style=\"text-align: right;\">\n",
       "      <th></th>\n",
       "      <th>Frequencia Ni</th>\n",
       "      <th>Porcentagem 100 Fi</th>\n",
       "      <th>Proporcao Fi</th>\n",
       "    </tr>\n",
       "  </thead>\n",
       "  <tbody>\n",
       "    <tr>\n",
       "      <th>20|-30</th>\n",
       "      <td>8</td>\n",
       "      <td>22.222222</td>\n",
       "      <td>0.222222</td>\n",
       "    </tr>\n",
       "    <tr>\n",
       "      <th>30|-40</th>\n",
       "      <td>18</td>\n",
       "      <td>50.000000</td>\n",
       "      <td>0.500000</td>\n",
       "    </tr>\n",
       "    <tr>\n",
       "      <th>40|-50</th>\n",
       "      <td>10</td>\n",
       "      <td>27.777778</td>\n",
       "      <td>0.277778</td>\n",
       "    </tr>\n",
       "  </tbody>\n",
       "</table>\n",
       "</div>"
      ],
      "text/plain": [
       "        Frequencia Ni  Porcentagem 100 Fi  Proporcao Fi\n",
       "20|-30              8           22.222222      0.222222\n",
       "30|-40             18           50.000000      0.500000\n",
       "40|-50             10           27.777778      0.277778"
      ]
     },
     "execution_count": 201,
     "metadata": {},
     "output_type": "execute_result"
    }
   ],
   "source": [
    "dfIdades"
   ]
  },
  {
   "cell_type": "code",
   "execution_count": 223,
   "metadata": {},
   "outputs": [
    {
     "data": {
      "text/plain": [
       "<matplotlib.axes._subplots.AxesSubplot at 0x7f8df3fa9d30>"
      ]
     },
     "execution_count": 223,
     "metadata": {},
     "output_type": "execute_result"
    },
    {
     "data": {
      "image/png": "[encoded data removed]",
      "text/plain": [
       "<matplotlib.figure.Figure at 0x7f8df3f7c8d0>"
      ]
     },
     "metadata": {},
     "output_type": "display_data"
    }
   ],
   "source": [
    "df['N de Filhos'].dropna().hist()"
   ]
  },
  {
   "cell_type": "code",
   "execution_count": null,
   "metadata": {},
   "outputs": [],
   "source": []
  }
 ],
 "metadata": {
  "kernelspec": {
   "display_name": "Python 3",
   "language": "python",
   "name": "python3"
  },
  "language_info": {
   "codemirror_mode": {
    "name": "ipython",
    "version": 3
   },
   "file_extension": ".py",
   "mimetype": "text/x-python",
   "name": "python",
   "nbconvert_exporter": "python",
   "pygments_lexer": "ipython3",
   "version": "3.6.4"
  }
 },
 "nbformat": 4,
 "nbformat_minor": 2
}
